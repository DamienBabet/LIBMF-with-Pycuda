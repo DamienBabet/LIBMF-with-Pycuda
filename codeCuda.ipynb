{
 "cells": [
  {
   "cell_type": "code",
   "execution_count": 1,
   "metadata": {
    "collapsed": true
   },
   "outputs": [],
   "source": [
    "import pyquickhelper, pyensae\n",
    "import random\n",
    "import numpy as np\n",
    "import pandas as pd"
   ]
  },
  {
   "cell_type": "code",
   "execution_count": 2,
   "metadata": {
    "collapsed": true
   },
   "outputs": [],
   "source": [
    "from scipy import sparse as sp"
   ]
  },
  {
   "cell_type": "markdown",
   "metadata": {},
   "source": [
    "#### Initialisation des paramètres"
   ]
  },
  {
   "cell_type": "code",
   "execution_count": 3,
   "metadata": {
    "collapsed": true
   },
   "outputs": [],
   "source": [
    "nbUsers=100\n",
    "nbFilms=55\n",
    "nbBloc=10\n",
    "K=3"
   ]
  },
  {
   "cell_type": "code",
   "execution_count": 4,
   "metadata": {
    "collapsed": true
   },
   "outputs": [],
   "source": [
    "nbIter=2"
   ]
  },
  {
   "cell_type": "code",
   "execution_count": null,
   "metadata": {
    "collapsed": true
   },
   "outputs": [],
   "source": []
  },
  {
   "cell_type": "markdown",
   "metadata": {},
   "source": [
    "#### Initialisation de p et q en supposant que :\n",
    "- p se lit ligne après ligne\n",
    "- q se lit colonne après colonne"
   ]
  },
  {
   "cell_type": "code",
   "execution_count": 5,
   "metadata": {
    "collapsed": false
   },
   "outputs": [],
   "source": [
    "AjoutUsersFictifs=int(nbUsers-np.floor(nbUsers/nbBloc)*nbBloc)\n",
    "AjoutFilmsFictifs=int(nbFilms-np.floor(nbFilms/nbBloc)*nbBloc)"
   ]
  },
  {
   "cell_type": "code",
   "execution_count": 6,
   "metadata": {
    "collapsed": false
   },
   "outputs": [],
   "source": [
    "p=np.random.uniform(0,1,(((nbUsers+AjoutUsersFictifs)*K)))\n",
    "q=np.random.uniform(0,1,(((nbFilms+AjoutFilmsFictifs)*K)))"
   ]
  },
  {
   "cell_type": "code",
   "execution_count": null,
   "metadata": {
    "collapsed": false
   },
   "outputs": [],
   "source": []
  },
  {
   "cell_type": "markdown",
   "metadata": {},
   "source": [
    "#### Initialisation de r"
   ]
  },
  {
   "cell_type": "code",
   "execution_count": 7,
   "metadata": {
    "collapsed": false
   },
   "outputs": [],
   "source": [
    "p2=p.reshape((nbUsers+AjoutUsersFictifs,K))\n",
    "q2=q.reshape((K,nbFilms+AjoutFilmsFictifs))\n",
    "r=np.dot(p2,q2).T"
   ]
  },
  {
   "cell_type": "code",
   "execution_count": 8,
   "metadata": {
    "collapsed": false
   },
   "outputs": [
    {
     "data": {
      "text/plain": [
       "(60, 100)"
      ]
     },
     "execution_count": 8,
     "metadata": {},
     "output_type": "execute_result"
    }
   ],
   "source": [
    "np.shape(r)"
   ]
  },
  {
   "cell_type": "code",
   "execution_count": 9,
   "metadata": {
    "collapsed": true
   },
   "outputs": [
    {
     "data": {
      "text/plain": [
       "array([ 0.74630556,  0.41594627,  0.48324836,  0.89152521,  0.80015648,\n",
       "        0.46547246,  0.51532181,  0.26625865,  0.55873359,  0.84461218,\n",
       "        0.68104355,  0.76597873,  0.50070203,  0.48536473,  0.13353549,\n",
       "        0.30731013,  0.32523343,  0.42511419,  0.28142563,  0.63763911,\n",
       "        0.53338963,  0.4176446 ,  0.4015498 ,  0.61385801,  0.42020547,\n",
       "        0.51989549,  0.59500768,  0.5012157 ,  0.59253975,  0.57593106,\n",
       "        0.78756465,  0.25733617,  0.71845843,  0.75787964,  0.28786719,\n",
       "        0.51853895,  0.15743488,  0.69544146,  0.48794356,  0.47618658,\n",
       "        0.6988425 ,  0.68709342,  0.27745072,  0.63230395,  0.50061249,\n",
       "        0.50698941,  0.53392248,  0.4733646 ,  0.6342585 ,  0.34516607,\n",
       "        0.38043335,  0.36003891,  0.34493631,  0.19880657,  0.67258524,\n",
       "        0.80329344,  0.56063751,  0.4416907 ,  0.4231815 ,  0.43089024,\n",
       "        0.67748761,  0.31914854,  0.52267473,  0.1902501 ,  0.57329249,\n",
       "        0.4877246 ,  0.75732461,  0.85998235,  0.44235358,  0.77915725,\n",
       "        0.76845453,  0.61077569,  0.4490889 ,  0.4546943 ,  0.65271855,\n",
       "        0.52214203,  0.32897056,  0.66966903,  0.47053068,  0.3141738 ,\n",
       "        0.56975732,  0.66157281,  0.62814822,  0.38131542,  0.12809782,\n",
       "        0.34319166,  0.0894078 ,  0.23356043,  0.34539425,  0.61909393,\n",
       "        0.2781275 ,  0.32351431,  0.15727847,  0.41626686,  0.60472218,\n",
       "        0.85297488,  0.71529763,  0.21037386,  0.97586193,  0.49304913])"
      ]
     },
     "execution_count": 9,
     "metadata": {},
     "output_type": "execute_result"
    }
   ],
   "source": [
    "r[0]"
   ]
  },
  {
   "cell_type": "code",
   "execution_count": null,
   "metadata": {
    "collapsed": false
   },
   "outputs": [],
   "source": []
  },
  {
   "cell_type": "markdown",
   "metadata": {},
   "source": [
    "#### Boucle"
   ]
  },
  {
   "cell_type": "code",
   "execution_count": null,
   "metadata": {
    "collapsed": false
   },
   "outputs": [],
   "source": [
    "for l in range(nbIter):\n",
    "    \n",
    "    #Choisir une permutation des colonnes\n",
    "    L=np.array(range(nbBloc))\n",
    "    random.shuffle(L)\n",
    "    \n",
    "    # Mise en forme de Q selon l'ordre de la permutation\n",
    "    q2=q.reshape((K,nbFilms+AjoutFilmsFictifs))\n",
    "    qEnBloc=q2.T.reshape(nbBloc,int((nbFilms+AjoutFilmsFictifs)/nbBloc),K)\n",
    "    q_permut=qEnBloc[L[0]].tolist()\n",
    "    for i in range(1,nbBloc) :\n",
    "        q_permut=np.append(q_permut,qEnBloc[L[i]].tolist())\n",
    "    \n",
    "    # Mise en forme de R selon l'ordre de la permutation\n",
    "    r_permut\n",
    "    \n",
    "    \n",
    "    # Transfert des données sur la GPU\n",
    "    p_gpu = cuda.mem_alloc(p.nbytes)\n",
    "    cuda.memcpy_htod(p_gpu, p)\n",
    "    q_gpu = cuda.mem_alloc(Q.nbytes)\n",
    "    cuda.memcpy_htod(q_gpu, q_permut)\n",
    "    r_gpu = cuda.mem_alloc(R.nbytes)\n",
    "    cuda.memcpy_htod(r_gpu, r_permut)\n",
    "    \n",
    "    # Mettre __syncthreads();  dans le code du kernel\n",
    "    \n",
    "    # Execution du kernel\n",
    "    func = mod.get_function(\"doublify\")\n",
    "    func(a_gpu, block = (nbCasesBloc, nbCasesBloc, 1))\n",
    "\n",
    "    #Remettre Q dans l'ordre\n",
    "    q2=q_permut.reshape((K,nbFilms+AjoutFilmsFictifs))\n",
    "    qEnBloc=q2.T.reshape(nbBloc,int((nbFilms+AjoutFilmsFictifs)/nbBloc),K)\n",
    "    q=qEnBloc[int(np.floor(np.where(L==0)))].tolist()\n",
    "    for i in range(1,nbBloc) :\n",
    "        q=np.append(q,qEnBloc[int(np.floor(np.where(L==i)))].tolist())\n",
    "    \n",
    "    "
   ]
  },
  {
   "cell_type": "code",
   "execution_count": null,
   "metadata": {
    "collapsed": true
   },
   "outputs": [],
   "source": []
  }
 ],
 "metadata": {
  "anaconda-cloud": {},
  "kernelspec": {
   "display_name": "Python 2",
   "language": "python",
   "name": "python2"
  },
  "language_info": {
   "codemirror_mode": {
    "name": "ipython",
    "version": 2
   },
   "file_extension": ".py",
   "mimetype": "text/x-python",
   "name": "python",
   "nbconvert_exporter": "python",
   "pygments_lexer": "ipython2",
   "version": "2.7.11"
  }
 },
 "nbformat": 4,
 "nbformat_minor": 2
}
