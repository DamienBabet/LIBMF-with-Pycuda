{
 "cells": [
  {
   "cell_type": "markdown",
   "metadata": {},
   "source": [
    "# Factorisation de matrice en parallèle : implémentation de FPSGD sur GPU"
   ]
  },
  {
   "cell_type": "markdown",
   "metadata": {},
   "source": [
    "#### Damien BABET, Julie DJIRIGUIAN\n",
    "#### Eléments logiciels pour le traitement des données massives"
   ]
  },
  {
   "cell_type": "markdown",
   "metadata": {},
   "source": [
    "Ce projet repose initialement sur l'article \"A Fast Parallel Stochastic Gradient Method for Matrix Factorization in Shared Memory Systems\"."
   ]
  },
  {
   "cell_type": "code",
   "execution_count": 1,
   "metadata": {
    "collapsed": true
   },
   "outputs": [],
   "source": [
    "import random\n",
    "import numpy as np\n",
    "import pandas as pd\n",
    "import pycuda.driver as cuda\n",
    "import pycuda.autoinit\n",
    "from pycuda import compiler, gpuarray, tools\n",
    "from pycuda.compiler import SourceModule\n",
    "from scipy import sparse as sp"
   ]
  },
  {
   "cell_type": "markdown",
   "metadata": {},
   "source": [
    "### Import de données réelles pour exécuter l'algorithme"
   ]
  },
  {
   "cell_type": "markdown",
   "metadata": {},
   "source": [
    "Les données utilisées sont issues du site https://grouplens.org/datasets/movielens/. Il fournit 20 millions de notes relatives à 27 000 films recueillies auprès de plus de 138 000 utilisateurs. Face à une tel volume d'observations, nous utilisons les fonctionnalités de pyspark, et notamment le module sql."
   ]
  },
  {
   "cell_type": "code",
   "execution_count": 2,
   "metadata": {
    "collapsed": true
   },
   "outputs": [],
   "source": [
    "notes = sc.textFile(\"ratings.csv\") # Chargement du fichier des notes\n",
    "notes = notes.map(lambda ligne: ligne.split(',')) # Découpage des lignes en indiquant le séparateur\n",
    "notes = notes.map(lambda champs: (champs[0], champs[1], champs[2])) # On garde que les trois premières valeurs (idUser, idFilm, Note)\n",
    "notesSansTitre = notes.filter(lambda row: row[0]!='' and row[0]!='userId') # Suppression de la ligne des titres\n",
    "notesSansTitre = notesSansTitre.map(lambda row: [float(row[0]), float(row[1]), float(row[2])]) # Format des valeurs (entiers pour les identifiants et float pour la note)\n",
    "df= sqlContext.createDataFrame(notesSansTitre, ['userId', 'movieId', 'rating'])"
   ]
  },
  {
   "cell_type": "code",
   "execution_count": 3,
   "metadata": {
    "collapsed": false
   },
   "outputs": [
    {
     "data": {
      "text/plain": [
       "138493"
      ]
     },
     "execution_count": 3,
     "metadata": {},
     "output_type": "execute_result"
    }
   ],
   "source": [
    "# Nombre d'utilisateurs ayant noté au moins un film :\n",
    "df.dropDuplicates(['userId']).select('userId').count()"
   ]
  },
  {
   "cell_type": "code",
   "execution_count": 4,
   "metadata": {
    "collapsed": false
   },
   "outputs": [
    {
     "data": {
      "text/plain": [
       "26744"
      ]
     },
     "execution_count": 4,
     "metadata": {},
     "output_type": "execute_result"
    }
   ],
   "source": [
    "# Nombre de films ayant été notés au moins une fois :\n",
    "df.dropDuplicates(['movieId']).select('movieId').count()"
   ]
  },
  {
   "cell_type": "markdown",
   "metadata": {},
   "source": [
    "On récupère le nombre total d'utilisateurs et de films dans la base du site MovieLens. Le nombre total d'identifiants distincts de films diffèrent du nombre évalué précédemment car certains films ne sont pas notés. Ceci contribue à rendre la matrice R plus sparse."
   ]
  },
  {
   "cell_type": "code",
   "execution_count": 5,
   "metadata": {
    "collapsed": true
   },
   "outputs": [],
   "source": [
    "nbUsers=int(df.agg({\"userId\": \"max\"}).collect()[0]['max(userId)'])\n",
    "nbFilms=int(df.agg({\"movieId\": \"max\"}).collect()[0]['max(movieId)'])"
   ]
  },
  {
   "cell_type": "code",
   "execution_count": 6,
   "metadata": {
    "collapsed": false
   },
   "outputs": [
    {
     "name": "stdout",
     "output_type": "stream",
     "text": [
      "+-------+-----------------+------------------+------------------+\n",
      "|summary|           userId|           movieId|            rating|\n",
      "+-------+-----------------+------------------+------------------+\n",
      "|  count|         20000263|          20000263|          20000263|\n",
      "|   mean|69045.87258292554| 9041.567330339605|3.5255285642993797|\n",
      "| stddev|40038.62665316243|19789.477445413035|1.0519889192942433|\n",
      "|    min|              1.0|               1.0|               0.5|\n",
      "|    max|         138493.0|          131262.0|               5.0|\n",
      "+-------+-----------------+------------------+------------------+\n",
      "\n"
     ]
    }
   ],
   "source": [
    "# Aperçu de la base de données :\n",
    "df.describe().show()"
   ]
  },
  {
   "cell_type": "markdown",
   "metadata": {},
   "source": [
    "Plus de 20 millions de notes sont disponibles. Elles sont comprises entre 0,5 et 5 et la note moyenne est de 3,5."
   ]
  },
  {
   "cell_type": "markdown",
   "metadata": {},
   "source": [
    "##### Initialisation des paramètres"
   ]
  },
  {
   "cell_type": "code",
   "execution_count": 7,
   "metadata": {
    "collapsed": true
   },
   "outputs": [],
   "source": [
    "nbBloc=10 # Nombre de blocs\n",
    "Knum=3 # Nombre de variables qui résument l'information dans P et Q"
   ]
  },
  {
   "cell_type": "markdown",
   "metadata": {},
   "source": [
    "Des valeurs nulles sont ajoutées afin d'obtenir des P et Q avec des tailles divisibles par le nombre de blocs."
   ]
  },
  {
   "cell_type": "code",
   "execution_count": 8,
   "metadata": {
    "collapsed": true
   },
   "outputs": [],
   "source": [
    "AjoutUsersFictifs=int(np.ceil(np.true_divide(nbUsers,nbBloc))*nbBloc-nbUsers)\n",
    "AjoutFilmsFictifs=int(np.ceil(np.true_divide(nbFilms,nbBloc))*nbBloc-nbFilms)"
   ]
  },
  {
   "cell_type": "code",
   "execution_count": 9,
   "metadata": {
    "collapsed": true
   },
   "outputs": [],
   "source": [
    "p=np.random.uniform(0,1,(((nbUsers+AjoutUsersFictifs)*Knum)))\n",
    "q=np.random.uniform(0,1,(((nbFilms+AjoutFilmsFictifs)*Knum)))\n",
    "\n",
    "tP=(nbUsers+AjoutUsersFictifs)/nbBloc\n",
    "tQ=(nbFilms+AjoutFilmsFictifs)/nbBloc\n",
    "\n",
    "p2=p.reshape((nbUsers+AjoutUsersFictifs,Knum))\n",
    "q2=q.reshape((Knum,nbFilms+AjoutFilmsFictifs))\n",
    "\n",
    "tp=int((nbUsers+AjoutUsersFictifs)/nbBloc)\n",
    "tq=int((nbFilms+AjoutFilmsFictifs)/nbBloc)"
   ]
  },
  {
   "cell_type": "code",
   "execution_count": 10,
   "metadata": {
    "collapsed": true
   },
   "outputs": [],
   "source": [
    "# Ajout les indices relatifs au bloc ligne et au bloc colonne.\n",
    "changedTypedf = df.withColumn(\"numBlocLigne\", (df[\"userId\"].cast(\"double\")/tp).cast(\"integer\"))\n",
    "changedTypedf = changedTypedf.withColumn(\"numBlocColonne\", (df[\"movieId\"].cast(\"double\")/tq).cast(\"integer\"))"
   ]
  },
  {
   "cell_type": "code",
   "execution_count": 11,
   "metadata": {
    "collapsed": false
   },
   "outputs": [
    {
     "name": "stdout",
     "output_type": "stream",
     "text": [
      "+------+-------+------+------------+--------------+\n",
      "|userId|movieId|rating|numBlocLigne|numBlocColonne|\n",
      "+------+-------+------+------------+--------------+\n",
      "|   1.0|    2.0|   3.5|           0|             0|\n",
      "|   1.0|   29.0|   3.5|           0|             0|\n",
      "|   1.0|   32.0|   3.5|           0|             0|\n",
      "|   1.0|   47.0|   3.5|           0|             0|\n",
      "|   1.0|   50.0|   3.5|           0|             0|\n",
      "+------+-------+------+------------+--------------+\n",
      "only showing top 5 rows\n",
      "\n"
     ]
    }
   ],
   "source": [
    "# Aperçu de la table\n",
    "changedTypedf.show(n=5)"
   ]
  },
  {
   "cell_type": "code",
   "execution_count": 12,
   "metadata": {
    "collapsed": true
   },
   "outputs": [],
   "source": [
    "# On calcule le nombre d'obersations au sein de chaque bloc.\n",
    "v= changedTypedf.groupBy(['numBlocLigne', 'numBlocColonne']).count().collect()\n",
    "v=sqlContext.createDataFrame(v).toPandas()\n",
    "v.columns=[\"numBlocLigne\",\"numBlocColonne\",\"rating\"]"
   ]
  },
  {
   "cell_type": "code",
   "execution_count": 13,
   "metadata": {
    "collapsed": false
   },
   "outputs": [
    {
     "data": {
      "text/html": [
       "<div>\n",
       "<table border=\"1\" class=\"dataframe\">\n",
       "  <thead>\n",
       "    <tr style=\"text-align: right;\">\n",
       "      <th></th>\n",
       "      <th>numBlocLigne</th>\n",
       "      <th>numBlocColonne</th>\n",
       "      <th>rating</th>\n",
       "    </tr>\n",
       "  </thead>\n",
       "  <tbody>\n",
       "    <tr>\n",
       "      <th>count</th>\n",
       "      <td>100.000000</td>\n",
       "      <td>100.000000</td>\n",
       "      <td>1.000000e+02</td>\n",
       "    </tr>\n",
       "    <tr>\n",
       "      <th>mean</th>\n",
       "      <td>4.500000</td>\n",
       "      <td>4.500000</td>\n",
       "      <td>2.000026e+05</td>\n",
       "    </tr>\n",
       "    <tr>\n",
       "      <th>std</th>\n",
       "      <td>2.886751</td>\n",
       "      <td>2.886751</td>\n",
       "      <td>5.246233e+05</td>\n",
       "    </tr>\n",
       "    <tr>\n",
       "      <th>min</th>\n",
       "      <td>0.000000</td>\n",
       "      <td>0.000000</td>\n",
       "      <td>4.130000e+02</td>\n",
       "    </tr>\n",
       "    <tr>\n",
       "      <th>25%</th>\n",
       "      <td>2.000000</td>\n",
       "      <td>2.000000</td>\n",
       "      <td>7.296000e+03</td>\n",
       "    </tr>\n",
       "    <tr>\n",
       "      <th>50%</th>\n",
       "      <td>4.500000</td>\n",
       "      <td>4.500000</td>\n",
       "      <td>2.885750e+04</td>\n",
       "    </tr>\n",
       "    <tr>\n",
       "      <th>75%</th>\n",
       "      <td>7.000000</td>\n",
       "      <td>7.000000</td>\n",
       "      <td>5.183500e+04</td>\n",
       "    </tr>\n",
       "    <tr>\n",
       "      <th>max</th>\n",
       "      <td>9.000000</td>\n",
       "      <td>9.000000</td>\n",
       "      <td>1.813876e+06</td>\n",
       "    </tr>\n",
       "  </tbody>\n",
       "</table>\n",
       "</div>"
      ],
      "text/plain": [
       "       numBlocLigne  numBlocColonne        rating\n",
       "count    100.000000      100.000000  1.000000e+02\n",
       "mean       4.500000        4.500000  2.000026e+05\n",
       "std        2.886751        2.886751  5.246233e+05\n",
       "min        0.000000        0.000000  4.130000e+02\n",
       "25%        2.000000        2.000000  7.296000e+03\n",
       "50%        4.500000        4.500000  2.885750e+04\n",
       "75%        7.000000        7.000000  5.183500e+04\n",
       "max        9.000000        9.000000  1.813876e+06"
      ]
     },
     "execution_count": 13,
     "metadata": {},
     "output_type": "execute_result"
    }
   ],
   "source": [
    "v.describe()"
   ]
  },
  {
   "cell_type": "code",
   "execution_count": 14,
   "metadata": {
    "collapsed": true
   },
   "outputs": [],
   "source": [
    "changedTypedf=changedTypedf.orderBy([\"userId\", \"movieId\"])"
   ]
  },
  {
   "cell_type": "markdown",
   "metadata": {},
   "source": [
    "### Création d'une matrice sparse pour tester l'algorithme de factorisation matricielle"
   ]
  },
  {
   "cell_type": "markdown",
   "metadata": {},
   "source": [
    "##### Initialisation des paramètres"
   ]
  },
  {
   "cell_type": "markdown",
   "metadata": {},
   "source": [
    "Nous créons tout d'abord une matrice fictive pour tester notre algorithme sur un petit jeu de données. On initialise les paramètres."
   ]
  },
  {
   "cell_type": "code",
   "execution_count": 15,
   "metadata": {
    "collapsed": true
   },
   "outputs": [],
   "source": [
    "nbUsers=9\n",
    "nbFilms=9\n",
    "nbBloc=3\n",
    "Knum=1\n",
    "nbIter=3\n",
    "gamma=0.001\n",
    "lambdaP=0.1\n",
    "lambdaQ=0.1"
   ]
  },
  {
   "cell_type": "markdown",
   "metadata": {},
   "source": [
    "##### Initialisation des matrices P et Q"
   ]
  },
  {
   "cell_type": "markdown",
   "metadata": {},
   "source": [
    "On initialise l'algorithme avec des P et Q aléatoires et éloignes des vraies valeurs. \n",
    "Des valeurs nulles sont ajoutées afin d'obtenir des P et Q avec des tailles divisibles par le nombre de blocs."
   ]
  },
  {
   "cell_type": "code",
   "execution_count": 16,
   "metadata": {
    "collapsed": true
   },
   "outputs": [],
   "source": [
    "AjoutUsersFictifs=int(np.ceil(np.true_divide(nbUsers,nbBloc))*nbBloc-nbUsers)\n",
    "AjoutFilmsFictifs=int(np.ceil(np.true_divide(nbFilms,nbBloc))*nbBloc-nbFilms)\n",
    "\n",
    "p=np.random.uniform(9,10,(((nbUsers+AjoutUsersFictifs)*Knum)))\n",
    "q=np.random.uniform(9,10,(((nbFilms+AjoutFilmsFictifs)*Knum)))\n",
    "\n",
    "tp=int((nbUsers+AjoutUsersFictifs)/nbBloc) # Nombre d'utilisateurs par bloc\n",
    "tq=int((nbFilms+AjoutFilmsFictifs)/nbBloc) # Nomre de films par bloc"
   ]
  },
  {
   "cell_type": "code",
   "execution_count": 17,
   "metadata": {
    "collapsed": true
   },
   "outputs": [],
   "source": [
    "r_sparse = sp.rand(nbUsers+AjoutUsersFictifs,nbFilms+AjoutFilmsFictifs,0.6)\n",
    "r_data=np.transpose(np.array([r_sparse.row, r_sparse.col, r_sparse.data]))\n",
    "df=pd.DataFrame(r_data, columns=(\"i\",\"j\",\"value\"))\n",
    "df[\"numBlocLigne\"] =df.apply(lambda row : int(row[0]/tp), axis = 1 )\n",
    "df[\"numBlocColonne\"] =df.apply(lambda row : int(row[1]/tq), axis = 1 )"
   ]
  },
  {
   "cell_type": "code",
   "execution_count": 18,
   "metadata": {
    "collapsed": true
   },
   "outputs": [],
   "source": [
    "v = pd.DataFrame(df.groupby([\"numBlocLigne\", \"numBlocColonne\"]).count())\n",
    "v = v.reset_index()[[\"numBlocLigne\",\"numBlocColonne\",\"value\"]]"
   ]
  },
  {
   "cell_type": "markdown",
   "metadata": {},
   "source": [
    "### Implémentation de l'algorithme sous python sans parallélisation"
   ]
  },
  {
   "cell_type": "markdown",
   "metadata": {},
   "source": [
    "Pour exécuter l'algorithme sans parallélisation, nous effectuons une première boucle sur les blocs. Sur chaque bloc, nous  parcourons chaque observation et nous mettons à jour la valeur de P et Q selon la formule issue de la minimisation."
   ]
  },
  {
   "cell_type": "code",
   "execution_count": 19,
   "metadata": {
    "collapsed": true
   },
   "outputs": [
    {
     "name": "stdout",
     "output_type": "stream",
     "text": [
      "14804.4852094\n"
     ]
    },
    {
     "name": "stderr",
     "output_type": "stream",
     "text": [
      "c:\\Anaconda3\\lib\\site-packages\\ipykernel\\__main__.py:4: VisibleDeprecationWarning: using a non-integer number instead of an integer will result in an error in the future\n",
      "c:\\Anaconda3\\lib\\site-packages\\ipykernel\\__main__.py:42: VisibleDeprecationWarning: using a non-integer number instead of an integer will result in an error in the future\n",
      "c:\\Anaconda3\\lib\\site-packages\\ipykernel\\__main__.py:45: VisibleDeprecationWarning: using a non-integer number instead of an integer will result in an error in the future\n",
      "c:\\Anaconda3\\lib\\site-packages\\ipykernel\\__main__.py:46: VisibleDeprecationWarning: using a non-integer number instead of an integer will result in an error in the future\n",
      "c:\\Anaconda3\\lib\\site-packages\\ipykernel\\__main__.py:47: VisibleDeprecationWarning: using a non-integer number instead of an integer will result in an error in the future\n",
      "c:\\Anaconda3\\lib\\site-packages\\ipykernel\\__main__.py:48: VisibleDeprecationWarning: using a non-integer number instead of an integer will result in an error in the future\n",
      "c:\\Anaconda3\\lib\\site-packages\\ipykernel\\__main__.py:49: VisibleDeprecationWarning: using a non-integer number instead of an integer will result in an error in the future\n",
      "c:\\Anaconda3\\lib\\site-packages\\ipykernel\\__main__.py:50: VisibleDeprecationWarning: using a non-integer number instead of an integer will result in an error in the future\n"
     ]
    }
   ],
   "source": [
    "def erreur(x,y,z):\n",
    "    error = 0\n",
    "    for i in (0,len(z)-1):\n",
    "        eij = z[i,2]-x[z[i,0]]*y[z[i,1]]\n",
    "        error += eij*eij\n",
    "    print(error)\n",
    "\n",
    "erreur(p,q,r_data)\n",
    "    \n",
    "p_start = p\n",
    "q_start = q\n",
    "\n",
    "for l in range(nbIter):\n",
    "    \n",
    "    #Choisir une permutation des colonnes\n",
    "    L=np.array(range(nbBloc))\n",
    "    random.shuffle(L)\n",
    "    \n",
    "    # Mise en forme de R selon l'ordre de la permutation et création de v_permut \n",
    "    # (vecteur des coordonnees des debuts de blocks sur R)\n",
    "    r_permut=np.array(df[(df[\"numBlocLigne\"]==0) & (df[\"numBlocColonne\"]==L[0])][[0,1,2]]).flatten()\n",
    "    v_permut=np.array(v[(v[\"numBlocLigne\"]==0) & (v[\"numBlocColonne\"]==L[0])][[2]]).flatten()\n",
    "    for i in range(1,nbBloc) :\n",
    "        r_permut=np.append(r_permut,np.array(df[(df[\"numBlocLigne\"]==i) & (df[\"numBlocColonne\"]==L[i])][[0,1,2]]).flatten()).flatten()\n",
    "        v_permut=np.append(v_permut,np.array(v[(v[\"numBlocLigne\"]==i) & (v[\"numBlocColonne\"]==L[i])][[2]]).flatten()).flatten()\n",
    "    v_permut_cum=np.append(1,np.cumsum(v_permut))\n",
    "    \n",
    "    # Execution du kernel\n",
    "    K = Knum\n",
    "    for t in range(1,nbBloc):\n",
    "        idx = t\n",
    "        rstart = v_permut_cum[idx]-1\n",
    "        rend = v_permut_cum[idx+1]-1\n",
    "        p_temp = 0\n",
    "        q_temp = 0\n",
    "        for n in (0,rend-rstart):\n",
    "            i = r_permut[3 * (n+rstart)]\n",
    "            j = r_permut[(3 * (n+rstart)) + 1]\n",
    "            rij = r_permut[(3 * (n+rstart)) + 2]\n",
    "            pqij = 0\n",
    "            for k in (0,K-1):\n",
    "                pqij += p[(i*K)+k] * q[(j*K)+k]\n",
    "            eij = rij - pqij\n",
    "            for k in (0,K-1):\n",
    "                p_temp = gamma * eij * q[(j*K)+k] - gamma * lambdaP * p[(i*K)+k]\n",
    "                q_temp = gamma * eij * p[(i*K)+k] - gamma * lambdaQ * q[(j*K)+k]\n",
    "                if (q[(j*K)+k] + q_temp) > 0:\n",
    "                    q[(j*K)+k] += q_temp\n",
    "                if (p[(i*K)+k] + p_temp) > 0:\n",
    "                    p[(i*K)+k] += p_temp"
   ]
  },
  {
   "cell_type": "markdown",
   "metadata": {},
   "source": [
    "### Ecriture de la fonction (kernel) en C appliquée à chaque bloc. Cette fonction est appliquée à chaque thread."
   ]
  },
  {
   "cell_type": "code",
   "execution_count": null,
   "metadata": {
    "collapsed": false
   },
   "outputs": [],
   "source": [
    "mod = SourceModule(\"\"\"\n",
    "    __global__ void block_update(float *p, float *q, float *r, float *v)\n",
    "    {\n",
    "      int K = 1;\n",
    "      float gamma = 0.5;\n",
    "      float lambdaP = 0.1;\n",
    "      float lambdaQ = 0.1;\n",
    "      int idx = threadIdx.x;\n",
    "      int rstart = v[idx];\n",
    "      int rend = v[idx+1];\n",
    "      float pqij = 0;\n",
    "      float p_temp = 0;\n",
    "      float q_temp = 0;\n",
    "      for (int n = 0; n < rend-rstart; ++n){\n",
    "        int i = r[3 * (n+rstart)];\n",
    "        int j = r[(3 * (n+rstart)) + 1];\n",
    "        float rij = r[(3 * (n+rstart)) + 2];\n",
    "        pqij = 0;\n",
    "        for (int k = 0; k < K; ++k){\n",
    "            pqij += p[(i*K)+k] * q[(j*K)+k];}\n",
    "        float eij = rij - pqij;\n",
    "        for (int k = 0; k < K; ++k){\n",
    "            p_temp =  gamma * eij * q[(j*K)+k] - gamma * lambdaP * p[(i*K)+k];\n",
    "            q_temp = gamma * eij * p[(i*K)+k] - gamma * lambdaQ * q[(j*K)+k];\n",
    "            if ((q[(j*K)+k] + q_temp) > 0)\n",
    "                q[(j*K)+k] += q_temp;\n",
    "            if ((p[(i*K)+k] + p_temp) > 0)\n",
    "                p[(i*K)+k] += p_temp;}\n",
    "      }\n",
    "    }\n",
    "    \"\"\")"
   ]
  },
  {
   "cell_type": "code",
   "execution_count": null,
   "metadata": {
    "collapsed": false
   },
   "outputs": [],
   "source": [
    "func = mod.get_function(\"block_update\")"
   ]
  },
  {
   "cell_type": "markdown",
   "metadata": {},
   "source": [
    "### Exécution du kernel (scheduler)"
   ]
  },
  {
   "cell_type": "code",
   "execution_count": null,
   "metadata": {
    "collapsed": true
   },
   "outputs": [],
   "source": [
    "for l in range(1,nbIter):\n",
    "    #Choisir une permutation des colonnes\n",
    "    L=np.array(range(nbBloc))\n",
    "    random.shuffle(L)\n",
    "    \n",
    "    # Mise en forme de R selon l'ordre de la permutation et création de v_permut (vecteur des coordonnees des debuts de blocks sur R)\n",
    "    r_permut=np.array(changedTypedf.where((col('numBlocLigne')==0) & (col('numBlocColonne')==int(L[0]))).toPandas()[[3,4,2]]).flatten()\n",
    "    v_permut=np.array(v[(v[\"numBlocLigne\"]==0) & (v[\"numBlocColonne\"]==L[0])][[2]]).flatten()\n",
    "    for i in range(1,nbBloc) :\n",
    "        r_permut=np.append(r_permut,np.array(df[(df[\"numBlocLigne\"]==i) & (df[\"numBlocColonne\"]==L[i])][[0,1,2]]).flatten()).flatten()\n",
    "        v_permut=np.append(v_permut,np.array(v[(v[\"numBlocLigne\"]==i) & (v[\"numBlocColonne\"]==L[i])][[2]]).flatten()).flatten()\n",
    "    v_permut_cum=np.append(0,np.cumsum(v_permut))\n",
    "    \n",
    "    # Execution du kernel\n",
    "    func(cuda.InOut(p), cuda.InOut(q), cuda.InOut(r_permut), cuda.InOut(v_permut_cum), block=(4,4,1))\n",
    "    print(p)\n",
    "    \n",
    "print(p)\n",
    "print(q)\n",
    "\n",
    "erreur(p,q,r_data)"
   ]
  },
  {
   "cell_type": "markdown",
   "metadata": {},
   "source": [
    "Notre boucle ne fonctionne pas en raison semble-t-il du v_permut. \n",
    "En fait, nous avons initialement testé notre kernel sur quelques données. Ce programme de test correspond au programme libmf_cuda_demo.py disponible sur notre Github. De plus, les lignes de code au sein de la boucle fonctionnent en dehors de celle-ci. L'exécution de cette boucle qui constitue la dernière étape à la parallélisation de l'algorithme n'a pu être résolue."
   ]
  }
 ],
 "metadata": {
  "anaconda-cloud": {},
  "kernelspec": {
   "display_name": "Python [conda root]",
   "language": "python",
   "name": "conda-root-py"
  },
  "language_info": {
   "codemirror_mode": {
    "name": "ipython",
    "version": 3
   },
   "file_extension": ".py",
   "mimetype": "text/x-python",
   "name": "python",
   "nbconvert_exporter": "python",
   "pygments_lexer": "ipython3",
   "version": "3.5.2"
  }
 },
 "nbformat": 4,
 "nbformat_minor": 2
}
