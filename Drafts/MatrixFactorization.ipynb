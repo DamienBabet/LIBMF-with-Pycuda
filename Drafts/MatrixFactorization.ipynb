{
 "cells": [
  {
   "cell_type": "markdown",
   "metadata": {},
   "source": [
    "# A Fast Parallel Stochastic Gradient Method for Matrix Factorization in Shared Memory Systems"
   ]
  },
  {
   "cell_type": "markdown",
   "metadata": {},
   "source": [
    "Ce projet repose sur l'article \"A Fast Parallel Stochastic Gradient Method for Matrix Factorization in Shared Memory Systems\"."
   ]
  },
  {
   "cell_type": "code",
   "execution_count": 1,
   "metadata": {
    "collapsed": true
   },
   "outputs": [],
   "source": [
    "import pyquickhelper, pyensae\n",
    "import random\n",
    "import numpy as np\n",
    "import pandas as pd"
   ]
  },
  {
   "cell_type": "markdown",
   "metadata": {},
   "source": [
    "### Création d'une matrice sparse pour tester l'algorithme de factorisation matricielle"
   ]
  },
  {
   "cell_type": "markdown",
   "metadata": {},
   "source": [
    "Cette matrice est aléatoire avec 100000 observations non nulles. Elle permet d'implémenter notre algorithme sur un petit jeu de données."
   ]
  },
  {
   "cell_type": "code",
   "execution_count": 2,
   "metadata": {
    "collapsed": true
   },
   "outputs": [],
   "source": [
    "from scipy import sparse as sp"
   ]
  },
  {
   "cell_type": "code",
   "execution_count": 3,
   "metadata": {
    "collapsed": true
   },
   "outputs": [],
   "source": [
    "nbUsers = 300"
   ]
  },
  {
   "cell_type": "code",
   "execution_count": 4,
   "metadata": {
    "collapsed": true
   },
   "outputs": [],
   "source": [
    "nbFilms = 50"
   ]
  },
  {
   "cell_type": "markdown",
   "metadata": {},
   "source": [
    "##### Initialisation de la matrice de données"
   ]
  },
  {
   "cell_type": "code",
   "execution_count": 6,
   "metadata": {
    "collapsed": false
   },
   "outputs": [],
   "source": [
    "a = sp.rand(nbUsers,nbFilms,0.1)"
   ]
  },
  {
   "cell_type": "code",
   "execution_count": 8,
   "metadata": {
    "collapsed": false
   },
   "outputs": [],
   "source": [
    "data=np.array([a.row, a.col, a.data])"
   ]
  },
  {
   "cell_type": "code",
   "execution_count": 9,
   "metadata": {
    "collapsed": false
   },
   "outputs": [],
   "source": [
    "data=np.transpose(data)"
   ]
  },
  {
   "cell_type": "markdown",
   "metadata": {},
   "source": [
    "##### Initialisation des matrices P et Q"
   ]
  },
  {
   "cell_type": "code",
   "execution_count": 12,
   "metadata": {
    "collapsed": true
   },
   "outputs": [],
   "source": [
    "K=3"
   ]
  },
  {
   "cell_type": "code",
   "execution_count": 13,
   "metadata": {
    "collapsed": true
   },
   "outputs": [],
   "source": [
    "p=np.random.uniform(0,1,((nbUsers*K)))\n",
    "row_p=[x for x in range(0,nbUsers) for j in range(0,K)]\n",
    "col_int=[i for j in range(0,nbUsers) for i in range(0,K)]\n",
    "Psparse = sp.coo_matrix((p,(row_p,col_int)))"
   ]
  },
  {
   "cell_type": "code",
   "execution_count": 15,
   "metadata": {
    "collapsed": false
   },
   "outputs": [],
   "source": [
    "q=np.random.uniform(0,1,((nbFilms*K)))\n",
    "row_q=[x for x in range(0,nbFilms) for j in range(0,K)]\n",
    "col_int=[i for j in range(0,nbFilms) for i in range(0,K)]\n",
    "Qsparse = sp.coo_matrix((q,(row_q,col_int)))"
   ]
  },
  {
   "cell_type": "markdown",
   "metadata": {},
   "source": [
    "### Implémentation de l'algorithme sous python sans parallélisation"
   ]
  },
  {
   "cell_type": "markdown",
   "metadata": {},
   "source": [
    "Pour exécuter l'algorithme sans parallélisation, nous parcourons chaque observation et nous mettons à jour la valeur de P et Q selon la formule issue de la minimisation."
   ]
  },
  {
   "cell_type": "code",
   "execution_count": 16,
   "metadata": {
    "collapsed": true
   },
   "outputs": [],
   "source": [
    "N=len(a.row) #Nombre"
   ]
  },
  {
   "cell_type": "code",
   "execution_count": 17,
   "metadata": {
    "collapsed": true
   },
   "outputs": [],
   "source": [
    "nb=5*N #Nombre d'itérations"
   ]
  },
  {
   "cell_type": "code",
   "execution_count": 20,
   "metadata": {
    "collapsed": false
   },
   "outputs": [],
   "source": [
    "V=np.random.choice(range(N),nb, p=np.repeat(1/N,N)) #On fixe des probabilités de répétitions de chaque point égales.\n",
    "#Pour N grand, tous les points sont en moyenne parcourus le même nombre de fois. \n",
    "#On peut aussi fixer un nb de répétitions fixes égal pour chaque valeur en exécutant \n",
    "# [x for x in range(0,nb) for j in range(0,N)] puis mélanger."
   ]
  },
  {
   "cell_type": "code",
   "execution_count": 18,
   "metadata": {
    "collapsed": false
   },
   "outputs": [],
   "source": [
    "def matrix_factorization (R, Psparse, Qsparse, K, V, gamma =0.02 , lambd =0.02):\n",
    "    P=np.array([Psparse.row, Psparse.col, Psparse.data])\n",
    "    P=np.transpose(P)\n",
    "    Q=np.array([Qsparse.row, Qsparse.col, Qsparse.data])\n",
    "    Q=np.transpose(Q)\n",
    "    for l in V:\n",
    "        i=R[l][0]\n",
    "        j=R[l][1]\n",
    "        eij=R[l][2]-np.dot(P[Psparse.row==i,2],Q[Qsparse.row==j,2])\n",
    "        for k in range(K):\n",
    "            P[(Psparse.row==i) & (Psparse.col==k),2] = P[(Psparse.row==i) & (Psparse.col==k),2] + gamma * (2 * eij * Q[(Qsparse.row==j) & (Qsparse.col==k),2] - lambd * P[(Psparse.row==i) & (Psparse.col==k),2])\n",
    "            Q[(Qsparse.row==j) & (Qsparse.col==k),2] = Q[(Qsparse.row==j) & (Qsparse.col==k),2] + gamma * (2 * eij * P[(Psparse.row==i) & (Psparse.col==k),2] - lambd * Q[(Qsparse.row==j) & (Qsparse.col==k),2])\n",
    "    return P, Q"
   ]
  },
  {
   "cell_type": "code",
   "execution_count": 21,
   "metadata": {
    "collapsed": false
   },
   "outputs": [
    {
     "data": {
      "text/plain": [
       "(array([[  0.00000000e+00,   0.00000000e+00,   2.49452360e-01],\n",
       "        [  0.00000000e+00,   1.00000000e+00,   6.75605988e-01],\n",
       "        [  0.00000000e+00,   2.00000000e+00,   2.54645105e-01],\n",
       "        ..., \n",
       "        [  2.99000000e+02,   0.00000000e+00,   4.51672033e-01],\n",
       "        [  2.99000000e+02,   1.00000000e+00,   7.75548268e-01],\n",
       "        [  2.99000000e+02,   2.00000000e+00,   7.16348854e-01]]),\n",
       " array([[  0.00000000e+00,   0.00000000e+00,   8.07530619e-01],\n",
       "        [  0.00000000e+00,   1.00000000e+00,   5.15311408e-01],\n",
       "        [  0.00000000e+00,   2.00000000e+00,   2.40838840e-02],\n",
       "        [  1.00000000e+00,   0.00000000e+00,   9.15505081e-02],\n",
       "        [  1.00000000e+00,   1.00000000e+00,   5.19989177e-01],\n",
       "        [  1.00000000e+00,   2.00000000e+00,   6.07525307e-01],\n",
       "        [  2.00000000e+00,   0.00000000e+00,   6.75946499e-01],\n",
       "        [  2.00000000e+00,   1.00000000e+00,   1.61076686e-02],\n",
       "        [  2.00000000e+00,   2.00000000e+00,   1.44981072e-01],\n",
       "        [  3.00000000e+00,   0.00000000e+00,   1.85132848e-01],\n",
       "        [  3.00000000e+00,   1.00000000e+00,   5.80323950e-01],\n",
       "        [  3.00000000e+00,   2.00000000e+00,   4.95394029e-01],\n",
       "        [  4.00000000e+00,   0.00000000e+00,   3.83514875e-01],\n",
       "        [  4.00000000e+00,   1.00000000e+00,   2.19404771e-01],\n",
       "        [  4.00000000e+00,   2.00000000e+00,   2.77463324e-01],\n",
       "        [  5.00000000e+00,   0.00000000e+00,  -1.26173053e-01],\n",
       "        [  5.00000000e+00,   1.00000000e+00,   3.57416585e-01],\n",
       "        [  5.00000000e+00,   2.00000000e+00,   4.42518557e-01],\n",
       "        [  6.00000000e+00,   0.00000000e+00,   4.02323183e-01],\n",
       "        [  6.00000000e+00,   1.00000000e+00,   1.56365333e-01],\n",
       "        [  6.00000000e+00,   2.00000000e+00,   4.35423208e-01],\n",
       "        [  7.00000000e+00,   0.00000000e+00,   1.70154922e-01],\n",
       "        [  7.00000000e+00,   1.00000000e+00,   6.98885118e-01],\n",
       "        [  7.00000000e+00,   2.00000000e+00,   4.91459828e-01],\n",
       "        [  8.00000000e+00,   0.00000000e+00,   7.07007912e-01],\n",
       "        [  8.00000000e+00,   1.00000000e+00,   2.58121805e-01],\n",
       "        [  8.00000000e+00,   2.00000000e+00,   2.00491472e-01],\n",
       "        [  9.00000000e+00,   0.00000000e+00,   6.45873175e-01],\n",
       "        [  9.00000000e+00,   1.00000000e+00,   2.83968677e-01],\n",
       "        [  9.00000000e+00,   2.00000000e+00,   1.82780345e-01],\n",
       "        [  1.00000000e+01,   0.00000000e+00,   1.73307262e-01],\n",
       "        [  1.00000000e+01,   1.00000000e+00,   3.65238985e-01],\n",
       "        [  1.00000000e+01,   2.00000000e+00,   4.19249125e-01],\n",
       "        [  1.10000000e+01,   0.00000000e+00,   3.73778100e-01],\n",
       "        [  1.10000000e+01,   1.00000000e+00,   2.32984289e-01],\n",
       "        [  1.10000000e+01,   2.00000000e+00,   2.54974387e-01],\n",
       "        [  1.20000000e+01,   0.00000000e+00,   4.64773472e-01],\n",
       "        [  1.20000000e+01,   1.00000000e+00,   3.58504465e-01],\n",
       "        [  1.20000000e+01,   2.00000000e+00,   4.31832241e-01],\n",
       "        [  1.30000000e+01,   0.00000000e+00,   3.05872135e-01],\n",
       "        [  1.30000000e+01,   1.00000000e+00,   3.90424194e-01],\n",
       "        [  1.30000000e+01,   2.00000000e+00,   4.41866502e-01],\n",
       "        [  1.40000000e+01,   0.00000000e+00,   3.29876482e-01],\n",
       "        [  1.40000000e+01,   1.00000000e+00,   4.32010161e-01],\n",
       "        [  1.40000000e+01,   2.00000000e+00,   3.55943137e-01],\n",
       "        [  1.50000000e+01,   0.00000000e+00,   3.39514919e-01],\n",
       "        [  1.50000000e+01,   1.00000000e+00,   2.17264799e-01],\n",
       "        [  1.50000000e+01,   2.00000000e+00,   4.29545488e-01],\n",
       "        [  1.60000000e+01,   0.00000000e+00,   1.75691133e-01],\n",
       "        [  1.60000000e+01,   1.00000000e+00,   2.37840963e-01],\n",
       "        [  1.60000000e+01,   2.00000000e+00,   4.80100492e-01],\n",
       "        [  1.70000000e+01,   0.00000000e+00,   3.83759487e-01],\n",
       "        [  1.70000000e+01,   1.00000000e+00,   2.49442118e-01],\n",
       "        [  1.70000000e+01,   2.00000000e+00,   4.51557653e-01],\n",
       "        [  1.80000000e+01,   0.00000000e+00,   1.66001000e-01],\n",
       "        [  1.80000000e+01,   1.00000000e+00,   3.00102541e-01],\n",
       "        [  1.80000000e+01,   2.00000000e+00,   3.81901559e-01],\n",
       "        [  1.90000000e+01,   0.00000000e+00,   7.31715765e-01],\n",
       "        [  1.90000000e+01,   1.00000000e+00,   1.00517162e-01],\n",
       "        [  1.90000000e+01,   2.00000000e+00,   1.23308950e-01],\n",
       "        [  2.00000000e+01,   0.00000000e+00,   3.04906721e-01],\n",
       "        [  2.00000000e+01,   1.00000000e+00,   5.94978068e-01],\n",
       "        [  2.00000000e+01,   2.00000000e+00,   1.53055607e-01],\n",
       "        [  2.10000000e+01,   0.00000000e+00,   6.84563600e-01],\n",
       "        [  2.10000000e+01,   1.00000000e+00,  -1.65926080e-02],\n",
       "        [  2.10000000e+01,   2.00000000e+00,   4.16077829e-01],\n",
       "        [  2.20000000e+01,   0.00000000e+00,   3.45840022e-01],\n",
       "        [  2.20000000e+01,   1.00000000e+00,   4.36126012e-01],\n",
       "        [  2.20000000e+01,   2.00000000e+00,   4.84315965e-01],\n",
       "        [  2.30000000e+01,   0.00000000e+00,   3.15235170e-01],\n",
       "        [  2.30000000e+01,   1.00000000e+00,   4.46344736e-01],\n",
       "        [  2.30000000e+01,   2.00000000e+00,   2.20386518e-01],\n",
       "        [  2.40000000e+01,   0.00000000e+00,   4.97380463e-01],\n",
       "        [  2.40000000e+01,   1.00000000e+00,   5.09520117e-01],\n",
       "        [  2.40000000e+01,   2.00000000e+00,   1.22444316e-01],\n",
       "        [  2.50000000e+01,   0.00000000e+00,   2.90843214e-01],\n",
       "        [  2.50000000e+01,   1.00000000e+00,   2.38883493e-01],\n",
       "        [  2.50000000e+01,   2.00000000e+00,   3.85757285e-01],\n",
       "        [  2.60000000e+01,   0.00000000e+00,   1.54413391e-01],\n",
       "        [  2.60000000e+01,   1.00000000e+00,   3.38594742e-01],\n",
       "        [  2.60000000e+01,   2.00000000e+00,   3.89037197e-01],\n",
       "        [  2.70000000e+01,   0.00000000e+00,   4.60795318e-01],\n",
       "        [  2.70000000e+01,   1.00000000e+00,   2.12213268e-01],\n",
       "        [  2.70000000e+01,   2.00000000e+00,   6.14449067e-01],\n",
       "        [  2.80000000e+01,   0.00000000e+00,   2.81712750e-01],\n",
       "        [  2.80000000e+01,   1.00000000e+00,   2.15243773e-01],\n",
       "        [  2.80000000e+01,   2.00000000e+00,   5.45828527e-01],\n",
       "        [  2.90000000e+01,   0.00000000e+00,   1.79758896e-01],\n",
       "        [  2.90000000e+01,   1.00000000e+00,   4.37195295e-01],\n",
       "        [  2.90000000e+01,   2.00000000e+00,   3.97506538e-01],\n",
       "        [  3.00000000e+01,   0.00000000e+00,   4.28188494e-01],\n",
       "        [  3.00000000e+01,   1.00000000e+00,   1.34742306e-01],\n",
       "        [  3.00000000e+01,   2.00000000e+00,   5.23064324e-01],\n",
       "        [  3.10000000e+01,   0.00000000e+00,   2.91668980e-01],\n",
       "        [  3.10000000e+01,   1.00000000e+00,   1.87944834e-02],\n",
       "        [  3.10000000e+01,   2.00000000e+00,   4.73568610e-01],\n",
       "        [  3.20000000e+01,   0.00000000e+00,   2.52581984e-01],\n",
       "        [  3.20000000e+01,   1.00000000e+00,   2.59210797e-01],\n",
       "        [  3.20000000e+01,   2.00000000e+00,   2.46808555e-01],\n",
       "        [  3.30000000e+01,   0.00000000e+00,   5.98409913e-01],\n",
       "        [  3.30000000e+01,   1.00000000e+00,   2.50312353e-01],\n",
       "        [  3.30000000e+01,   2.00000000e+00,   4.34974673e-01],\n",
       "        [  3.40000000e+01,   0.00000000e+00,   5.31092051e-01],\n",
       "        [  3.40000000e+01,   1.00000000e+00,   1.20236366e-01],\n",
       "        [  3.40000000e+01,   2.00000000e+00,   3.89995842e-01],\n",
       "        [  3.50000000e+01,   0.00000000e+00,   3.33123072e-01],\n",
       "        [  3.50000000e+01,   1.00000000e+00,   4.40448468e-01],\n",
       "        [  3.50000000e+01,   2.00000000e+00,   1.37949791e-01],\n",
       "        [  3.60000000e+01,   0.00000000e+00,   7.23726125e-01],\n",
       "        [  3.60000000e+01,   1.00000000e+00,   3.29098141e-01],\n",
       "        [  3.60000000e+01,   2.00000000e+00,   4.80080948e-01],\n",
       "        [  3.70000000e+01,   0.00000000e+00,   2.82101649e-01],\n",
       "        [  3.70000000e+01,   1.00000000e+00,   3.71951811e-01],\n",
       "        [  3.70000000e+01,   2.00000000e+00,   3.36491374e-01],\n",
       "        [  3.80000000e+01,   0.00000000e+00,   5.35241191e-01],\n",
       "        [  3.80000000e+01,   1.00000000e+00,  -3.85686152e-02],\n",
       "        [  3.80000000e+01,   2.00000000e+00,   5.86878261e-01],\n",
       "        [  3.90000000e+01,   0.00000000e+00,   6.09117974e-01],\n",
       "        [  3.90000000e+01,   1.00000000e+00,   7.69197387e-02],\n",
       "        [  3.90000000e+01,   2.00000000e+00,   1.58859799e-01],\n",
       "        [  4.00000000e+01,   0.00000000e+00,   3.06569685e-01],\n",
       "        [  4.00000000e+01,   1.00000000e+00,   4.11940004e-01],\n",
       "        [  4.00000000e+01,   2.00000000e+00,   3.17589403e-01],\n",
       "        [  4.10000000e+01,   0.00000000e+00,   4.05983166e-02],\n",
       "        [  4.10000000e+01,   1.00000000e+00,   5.29396521e-01],\n",
       "        [  4.10000000e+01,   2.00000000e+00,   3.92060120e-01],\n",
       "        [  4.20000000e+01,   0.00000000e+00,   4.93332358e-01],\n",
       "        [  4.20000000e+01,   1.00000000e+00,   1.61408411e-01],\n",
       "        [  4.20000000e+01,   2.00000000e+00,   3.54501508e-01],\n",
       "        [  4.30000000e+01,   0.00000000e+00,   3.68666156e-01],\n",
       "        [  4.30000000e+01,   1.00000000e+00,   4.79949849e-01],\n",
       "        [  4.30000000e+01,   2.00000000e+00,   3.67730610e-01],\n",
       "        [  4.40000000e+01,   0.00000000e+00,   5.03496627e-01],\n",
       "        [  4.40000000e+01,   1.00000000e+00,   1.51510111e-01],\n",
       "        [  4.40000000e+01,   2.00000000e+00,   4.42196419e-01],\n",
       "        [  4.50000000e+01,   0.00000000e+00,   2.44806464e-01],\n",
       "        [  4.50000000e+01,   1.00000000e+00,   6.23324654e-01],\n",
       "        [  4.50000000e+01,   2.00000000e+00,   3.20812025e-01],\n",
       "        [  4.60000000e+01,   0.00000000e+00,   1.45635949e-01],\n",
       "        [  4.60000000e+01,   1.00000000e+00,   1.43493874e-01],\n",
       "        [  4.60000000e+01,   2.00000000e+00,   5.78151934e-01],\n",
       "        [  4.70000000e+01,   0.00000000e+00,   6.29807361e-01],\n",
       "        [  4.70000000e+01,   1.00000000e+00,   1.18031570e-01],\n",
       "        [  4.70000000e+01,   2.00000000e+00,   2.62295556e-01],\n",
       "        [  4.80000000e+01,   0.00000000e+00,   5.31222257e-01],\n",
       "        [  4.80000000e+01,   1.00000000e+00,   3.78098790e-01],\n",
       "        [  4.80000000e+01,   2.00000000e+00,   2.90073632e-01],\n",
       "        [  4.90000000e+01,   0.00000000e+00,   3.46618882e-01],\n",
       "        [  4.90000000e+01,   1.00000000e+00,   3.45369380e-01],\n",
       "        [  4.90000000e+01,   2.00000000e+00,   4.43152248e-01]]))"
      ]
     },
     "execution_count": 21,
     "metadata": {},
     "output_type": "execute_result"
    }
   ],
   "source": [
    "matrix_factorization(R=data,Psparse=Psparse,Qsparse=Qsparse,K=3,V=V)"
   ]
  },
  {
   "cell_type": "markdown",
   "metadata": {},
   "source": [
    "Ou une alternative si nous souhaitons le même format de matrice sparse en entrée et en sortie de la fonction :"
   ]
  },
  {
   "cell_type": "code",
   "execution_count": 31,
   "metadata": {
    "collapsed": false
   },
   "outputs": [],
   "source": [
    "def matrix_factorization (R, Psparse, Qsparse, K, V, gamma =0.02 , lambd =0.02):\n",
    "    for l in V:\n",
    "        i=R[l][0]\n",
    "        j=R[l][1]\n",
    "        eij = R[l][2] - np.dot(Psparse.data[Psparse.row==i],Qsparse.data[Qsparse.row==j])\n",
    "        for k in range (K):\n",
    "            Psparse.data[(Psparse.row==i) & (Psparse.col==k)] = Psparse.data[(Psparse.row==i) & (Psparse.col==k)] + gamma * (2 * eij * Qsparse.data[(Qsparse.row==j) & (Qsparse.col==k)] - lambd * Psparse.data[(Psparse.row==i) & (Psparse.col==k)])\n",
    "            Qsparse.data[(Qsparse.row==j) & (Qsparse.col==k)] = Qsparse.data[(Qsparse.row==j) & (Qsparse.col==k)] + gamma * (2 * eij * Psparse.data[(Psparse.row==i) & (Psparse.col==k)] - lambd * Qsparse.data[(Qsparse.row==j) & (Qsparse.col==k)])\n",
    "    return Psparse, Qsparse"
   ]
  },
  {
   "cell_type": "code",
   "execution_count": 32,
   "metadata": {
    "collapsed": false
   },
   "outputs": [],
   "source": [
    "P2, Q2 = matrix_factorization(R=data,Psparse=Psparse,Qsparse=Qsparse,K=3,V=V)"
   ]
  },
  {
   "cell_type": "code",
   "execution_count": 33,
   "metadata": {
    "collapsed": true
   },
   "outputs": [
    {
     "name": "stdout",
     "output_type": "stream",
     "text": [
      "  (0, 0)\t0.249452360179\n",
      "  (0, 1)\t0.675605988293\n",
      "  (0, 2)\t0.25464510508\n",
      "  (1, 0)\t0.445049632916\n",
      "  (1, 1)\t0.326428663976\n",
      "  (1, 2)\t0.143108390523\n",
      "  (2, 0)\t0.533689681654\n",
      "  (2, 1)\t0.856682740704\n",
      "  (2, 2)\t0.0963479880937\n",
      "  (3, 0)\t0.773602326886\n",
      "  (3, 1)\t0.138103972902\n",
      "  (3, 2)\t0.624317041969\n",
      "  (4, 0)\t0.354837934384\n",
      "  (4, 1)\t0.488653162265\n",
      "  (4, 2)\t0.494888027263\n",
      "  (5, 0)\t0.347192935275\n",
      "  (5, 1)\t0.7646108432\n",
      "  (5, 2)\t0.34140975413\n",
      "  (6, 0)\t0.149467367564\n",
      "  (6, 1)\t0.0475103342701\n",
      "  (6, 2)\t0.79036024681\n",
      "  (7, 0)\t0.796879995339\n",
      "  (7, 1)\t0.318420555256\n",
      "  (7, 2)\t0.505683672816\n",
      "  (8, 0)\t0.630127568626\n",
      "  :\t:\n",
      "  (291, 2)\t0.378462129701\n",
      "  (292, 0)\t0.42063130038\n",
      "  (292, 1)\t0.313805185772\n",
      "  (292, 2)\t0.528522996381\n",
      "  (293, 0)\t0.371745983116\n",
      "  (293, 1)\t0.429641763085\n",
      "  (293, 2)\t0.840938556409\n",
      "  (294, 0)\t0.547345607064\n",
      "  (294, 1)\t0.262887833228\n",
      "  (294, 2)\t0.19968851471\n",
      "  (295, 0)\t0.618355914758\n",
      "  (295, 1)\t0.504488401521\n",
      "  (295, 2)\t0.478501836848\n",
      "  (296, 0)\t0.926275024984\n",
      "  (296, 1)\t0.128671234028\n",
      "  (296, 2)\t0.0805139818474\n",
      "  (297, 0)\t0.0882027736956\n",
      "  (297, 1)\t0.0508563831907\n",
      "  (297, 2)\t0.64199969808\n",
      "  (298, 0)\t0.718586874793\n",
      "  (298, 1)\t0.85781775347\n",
      "  (298, 2)\t0.383037370938\n",
      "  (299, 0)\t0.451672033047\n",
      "  (299, 1)\t0.77554826847\n",
      "  (299, 2)\t0.71634885378\n"
     ]
    }
   ],
   "source": [
    "print(P2)"
   ]
  },
  {
   "cell_type": "markdown",
   "metadata": {},
   "source": [
    "### Fonction pour mélanger la matrice à factoriser afin de répartir aléatoirement les valeurs non nulles"
   ]
  },
  {
   "cell_type": "code",
   "execution_count": null,
   "metadata": {
    "collapsed": true
   },
   "outputs": [],
   "source": []
  },
  {
   "cell_type": "markdown",
   "metadata": {},
   "source": [
    "### Ecriture de la fonction (kernel) appliquée à chaque bloc. Cette fonction est appliquée à chaque thread."
   ]
  },
  {
   "cell_type": "code",
   "execution_count": 44,
   "metadata": {
    "collapsed": true
   },
   "outputs": [],
   "source": [
    "def noyau(bloc, blocp, blocq, K, gamma =0.02 , lambd =0.02):\n",
    "    for l in range (len(bloc.row)):\n",
    "        i=bloc.row[l]\n",
    "        j=bloc.col[l]\n",
    "        if bloc.data[(bloc.row==i) & (bloc.col==j)] > 0:\n",
    "            eij = bloc.data[(bloc.row==i) & (bloc.col==j)] - np.dot(blocp.data[blocp.row==i],blocq.data[blocq.row==j])\n",
    "            for k in range (K):\n",
    "                blocp.data[(blocp.row==i) & (blocp.col==k)] = blocp.data[(blocp.row==i) & (blocp.col==k)] + gamma * (2 * eij * blocq.data[(blocq.row==j) & (blocq.col==k)] - lambd * blocp.data[(blocp.row==i) & (blocp.col==k)])\n",
    "                blocq.data[(blocq.row==j) & (blocq.col==k)] = blocq.data[(blocq.row==j) & (blocq.col==k)] + gamma * (2 * eij * blocp.data[(blocp.row==i) & (blocp.col==k)] - lambd * blocq.data[(blocq.row==j) & (blocq.col==k)])\n",
    "    return blocp, blocq"
   ]
  },
  {
   "cell_type": "code",
   "execution_count": 46,
   "metadata": {
    "collapsed": false
   },
   "outputs": [],
   "source": [
    "blocp, blocq = noyau(bloc=a,blocp=Psparse, blocq=Qsparse, K=3)"
   ]
  }
 ],
 "metadata": {
  "anaconda-cloud": {},
  "kernelspec": {
   "display_name": "Python [conda root]",
   "language": "python",
   "name": "conda-root-py"
  },
  "language_info": {
   "codemirror_mode": {
    "name": "ipython",
    "version": 3
   },
   "file_extension": ".py",
   "mimetype": "text/x-python",
   "name": "python",
   "nbconvert_exporter": "python",
   "pygments_lexer": "ipython3",
   "version": "3.5.2"
  }
 },
 "nbformat": 4,
 "nbformat_minor": 2
}
